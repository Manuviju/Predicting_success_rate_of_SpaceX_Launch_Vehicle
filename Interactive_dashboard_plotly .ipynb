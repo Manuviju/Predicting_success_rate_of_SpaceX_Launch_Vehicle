{
 "cells": [
  {
   "cell_type": "markdown",
   "id": "ee83f51b",
   "metadata": {},
   "source": [
    "### Creating Interactive dashboard with the help of Dash and drawing graphs through Plotly. \n",
    "We will be building a Plotly Dash application for  to perform interactive visual analytics on SpaceX launch data in real-time.\n",
    "\n",
    "This dashboard application contains input components such as a dropdown list and a range slider to interact with a pie chart and a scatter point chart. \n",
    "\n"
   ]
  },
  {
   "cell_type": "code",
   "execution_count": 2,
   "id": "deb8e4ba",
   "metadata": {},
   "outputs": [],
   "source": [
    "import pandas as pd\n",
    "import dash\n",
    "import dash_html_components as html\n",
    "import dash_core_components as dcc\n",
    "from dash.dependencies import Input, Output\n",
    "from jupyter_dash import JupyterDash\n",
    "import plotly.graph_objects as go\n",
    "import plotly.express as px"
   ]
  },
  {
   "cell_type": "markdown",
   "id": "b0b37116",
   "metadata": {},
   "source": [
    "### Importing Data and saving it into the dataframe."
   ]
  },
  {
   "cell_type": "code",
   "execution_count": 3,
   "id": "e387fa7e",
   "metadata": {},
   "outputs": [],
   "source": [
    "url = \"spacex_launch_dash.csv\"\n",
    "spacex_df = pd.read_csv(url)\n"
   ]
  },
  {
   "cell_type": "code",
   "execution_count": null,
   "id": "59b74156",
   "metadata": {},
   "outputs": [
    {
     "name": "stdout",
     "output_type": "stream",
     "text": [
      "Dash is running on http://127.0.0.1:8050/\n",
      "\n",
      " * Serving Flask app \"__main__\" (lazy loading)\n",
      " * Environment: production\n",
      "\u001b[31m   WARNING: This is a development server. Do not use it in a production deployment.\u001b[0m\n",
      "\u001b[2m   Use a production WSGI server instead.\u001b[0m\n",
      " * Debug mode: off\n"
     ]
    },
    {
     "name": "stderr",
     "output_type": "stream",
     "text": [
      " * Running on http://127.0.0.1:8050/ (Press CTRL+C to quit)\n"
     ]
    }
   ],
   "source": [
    "# Reading the  data into pandas dataframe\n",
    "# spacex_df = pd.read_csv(\"spacex_launch_dash.csv\")\n",
    "max_payload = spacex_df['Payload Mass (kg)'].max()\n",
    "min_payload = spacex_df['Payload Mass (kg)'].min()\n",
    "\n",
    "# Creating a dash application\n",
    "app = dash.Dash(__name__)\n",
    "\n",
    "# Creating an app layout\n",
    "app.layout = html.Div(children=[html.H1('SpaceX Launch Records Dashboard',\n",
    "                                        style={'textAlign': 'center', 'color': '#503D36',\n",
    "                                               'font-size': 40}),\n",
    "                                #  Adding a dropdown list to enable Launch Site selection\n",
    "                                # The default select value is for ALL sites\n",
    "                                dcc.Dropdown(id='site-dropdown', options=[{'label':'All Sites', 'value':'All'}\n",
    "                                ,{'label':'CCAFS LC-40','value':'CCAFS LC-40'}, \n",
    "                                {'label':'CCAFS SLC-40','value':'CCAFS SLC-40'},\n",
    "                                {'label':'KSC LC-39A','value':'KSC LC-39A'},\n",
    "                                {'label':'VAFB SLC-4E','value':'VAFB SLC-4E'},],\n",
    "                                value=\"ALL\", placeholder='Select a launch site form here',\n",
    "                                searchable= True),\n",
    "                                html.Br(),\n",
    "\n",
    "                                # Adding a pie chart to show the total successful launches count for all sites\n",
    "                                # If a specific launch site was selected, shows the Success vs. Failed counts for the site\n",
    "                                html.Div(dcc.Graph(id='success-pie-chart')),\n",
    "                                html.Br(),\n",
    "\n",
    "                                html.P(\"Payload range (Kg):\"),\n",
    "                                #  Adding a slider to select payload range\n",
    "                                dcc.RangeSlider(id='payload-slider',min=0, max=10000, step=1000,\n",
    "                                marks={0:'0', 2500:'2500', 5000:'5000', 7500:'7500', 10000:'10000'}, \n",
    "                                value=[min_payload, max_payload]),\n",
    "\n",
    "                                #   Adding a scatter chart to show the correlation between payload and launch success\n",
    "                                html.Div(dcc.Graph(id='success-payload-scatter-chart')),\n",
    "                                ])\n",
    "\n",
    "\n",
    " \n",
    "# Adding a callback function for `site-dropdown` as input, `success-pie-chart` as output\n",
    "@app.callback(Output(component_id='success-pie-chart', component_property='figure'),\n",
    "              Input(component_id='site-dropdown', component_property='value'))\n",
    "\n",
    "def get_pie_chart(entered_site):\n",
    "    filtered_df = spacex_df\n",
    "    if entered_site == 'All':\n",
    "        fig = px.pie(filtered_df, values='class', \n",
    "        names='Launch Site', \n",
    "        title='Success Counts for all Sites')\n",
    "        return fig\n",
    "    else:\n",
    "        new_df = spacex_df[spacex_df['Launch Site']==entered_site]['class'].value_counts().to_frame()\n",
    "        new_df['name'] = ['Failure', 'Success']\n",
    "        fig = px.pie(new_df, values='class',names='name',title='Total success Launches for site {}'.format(entered_site))\n",
    "        return fig\n",
    "\n",
    "# Adding a callback function for `site-dropdown` and `payload-slider` as inputs, `success-payload-scatter-chart` as output\n",
    "@app.callback(Output(component_id='success-payload-scatter-chart', component_property='figure'),\n",
    "              [Input(component_id='site-dropdown', component_property='value'), \n",
    "              Input(component_id=\"payload-slider\", component_property=\"value\")])\n",
    "\n",
    "def scatter(entered_site, payload):\n",
    "    filtered_df = spacex_df[spacex_df['Payload Mass (kg)'].between(payload[0], payload[1])]\n",
    "\n",
    "    if entered_site == 'All':\n",
    "        fig = px.scatter(filtered_df, x='Payload Mass (kg)', y='class',\n",
    "                        color='Booster Version Category',\n",
    "                        title=\"Success Count on Payload Mass for all sites\")\n",
    "        return fig\n",
    "    else:\n",
    "        fig = px.scatter(filtered_df[filtered_df['Launch Site'] == entered_site], x='Payload Mass (kg)', y='class',\n",
    "                        color='Booster Version Category',\n",
    "                        title=\"Success Count on Payload Mass for {}\".format(entered_site))\n",
    "        return fig   \n",
    "         \n",
    "# Run the app\n",
    "if __name__ == '__main__':\n",
    "    app.run_server()"
   ]
  },
  {
   "cell_type": "markdown",
   "id": "e4e4feff",
   "metadata": {},
   "source": [
    " ![Title](Success_count.jpg)"
   ]
  },
  {
   "cell_type": "markdown",
   "id": "288c224d",
   "metadata": {},
   "source": [
    "#### We can see that the KSC LC-39A has the mose succesful launch record compared to other sites."
   ]
  },
  {
   "cell_type": "markdown",
   "id": "2e879f59",
   "metadata": {},
   "source": [
    "![Title](Success_on_payload.jpg)"
   ]
  },
  {
   "cell_type": "markdown",
   "id": "d7a82e06",
   "metadata": {},
   "source": [
    "#### Findings\n",
    "We can see the the Booster version category FT is most successful<br>\n",
    "We can also find that the successful payload category for all kind of Booster versions lies between 400 to 6000 Kg"
   ]
  },
  {
   "cell_type": "code",
   "execution_count": null,
   "id": "82d5c792",
   "metadata": {},
   "outputs": [],
   "source": []
  }
 ],
 "metadata": {
  "kernelspec": {
   "display_name": "Python 3 (ipykernel)",
   "language": "python",
   "name": "python3"
  },
  "language_info": {
   "codemirror_mode": {
    "name": "ipython",
    "version": 3
   },
   "file_extension": ".py",
   "mimetype": "text/x-python",
   "name": "python",
   "nbconvert_exporter": "python",
   "pygments_lexer": "ipython3",
   "version": "3.9.12"
  }
 },
 "nbformat": 4,
 "nbformat_minor": 5
}
